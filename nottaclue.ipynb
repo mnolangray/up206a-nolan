{
 "cells": [
  {
   "cell_type": "code",
   "execution_count": null,
   "id": "2c3a7064-0476-4392-9fb4-a52cbb7d329f",
   "metadata": {},
   "outputs": [],
   "source": [
    "## I have absolutely no idea what I'm doing."
   ]
  }
 ],
 "metadata": {
  "kernelspec": {
   "display_name": "Python 3 (ipykernel)",
   "language": "python",
   "name": "python3"
  },
  "language_info": {
   "codemirror_mode": {
    "name": "ipython",
    "version": 3
   },
   "file_extension": ".py",
   "mimetype": "text/x-python",
   "name": "python",
   "nbconvert_exporter": "python",
   "pygments_lexer": "ipython3",
   "version": "3.9.6"
  }
 },
 "nbformat": 4,
 "nbformat_minor": 5
}
