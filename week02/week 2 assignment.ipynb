{
 "cells": [
  {
   "cell_type": "markdown",
   "id": "f49bb7cf-95e3-4f88-9e85-a20c693e8a96",
   "metadata": {
    "tags": []
   },
   "source": [
    "# Week 2: Analyzing Overnight Parking Districts Data"
   ]
  },
  {
   "cell_type": "markdown",
   "id": "c1e5fc53-66b9-486a-a98c-33552fcb0f8a",
   "metadata": {},
   "source": [
    "I begin by importing geopandas so the system knows how to make sense of what I'm telling it."
   ]
  },
  {
   "cell_type": "code",
   "execution_count": 1,
   "id": "b4cf8f15-273a-4e42-b222-b1c119e18013",
   "metadata": {
    "tags": []
   },
   "outputs": [],
   "source": [
    "import geopandas as gpd"
   ]
  },
  {
   "cell_type": "markdown",
   "id": "1f58c902-6de4-4fcd-ab2e-5f544dc54c33",
   "metadata": {},
   "source": [
    "Below, I import the file. As you may or may not be able to see based on the number of steps, it took me a while to get it work!"
   ]
  },
  {
   "cell_type": "code",
   "execution_count": 11,
   "id": "295d25cd-119d-4520-95d1-6cd95313936b",
   "metadata": {},
   "outputs": [],
   "source": [
    "opds = gpd.read_file('data/LADOT_Overnight_Parking_Districts.geojson')"
   ]
  },
  {
   "cell_type": "markdown",
   "id": "7ace3066-9ca3-493d-bada-fb42f484430c",
   "metadata": {},
   "source": [
    "First, let's run `.shape` and see generally what we're working with."
   ]
  },
  {
   "cell_type": "code",
   "execution_count": 12,
   "id": "7dbb2af8-dce2-4266-a044-24d5feb084fe",
   "metadata": {},
   "outputs": [
    {
     "data": {
      "text/plain": [
       "(40, 3)"
      ]
     },
     "execution_count": 12,
     "metadata": {},
     "output_type": "execute_result"
    }
   ],
   "source": [
    "opds.shape"
   ]
  },
  {
   "cell_type": "markdown",
   "id": "c867bb80-c3e8-42db-b492-8ebab288fe91",
   "metadata": {},
   "source": [
    "Okay, so there are 40 rows and 3 columns."
   ]
  },
  {
   "cell_type": "markdown",
   "id": "8adc31b3-5144-4e94-8f44-2e4cdb995c0a",
   "metadata": {},
   "source": [
    "Next, let's run `.info` and see all the entries."
   ]
  },
  {
   "cell_type": "code",
   "execution_count": 14,
   "id": "35980c93-c4e7-4382-8e23-c1989066d87e",
   "metadata": {},
   "outputs": [
    {
     "data": {
      "text/plain": [
       "<bound method DataFrame.info of     opdname opdnum                                           geometry\n",
       "0   ALABAMA    500  MULTIPOLYGON (((-118.59891 34.21548, -118.5988...\n",
       "1   OPD 501    501  MULTIPOLYGON (((-118.36135 34.15619, -118.3576...\n",
       "2   OPD 502    502  MULTIPOLYGON (((-118.40790 34.03322, -118.4073...\n",
       "3   OPD 503    503  MULTIPOLYGON (((-118.44854 34.16421, -118.4448...\n",
       "4   OPD 504    504  MULTIPOLYGON (((-118.40524 34.19394, -118.4026...\n",
       "5   OPD 505    505  MULTIPOLYGON (((-118.43210 34.02473, -118.4314...\n",
       "6   OPD 506    506  MULTIPOLYGON (((-118.41990 34.01166, -118.4200...\n",
       "7   OPD 507    507  MULTIPOLYGON (((-118.25538 34.07986, -118.2545...\n",
       "8   OPD 508    508  MULTIPOLYGON (((-118.56004 34.26470, -118.5595...\n",
       "9   OPD 509    509  MULTIPOLYGON (((-118.61208 34.25732, -118.6122...\n",
       "10  OPD 510    510  MULTIPOLYGON (((-118.57139 34.22450, -118.5710...\n",
       "11  OPD 512    512  MULTIPOLYGON (((-118.51020 34.18003, -118.5095...\n",
       "12  OPD 513    513  MULTIPOLYGON (((-118.48442 34.22178, -118.4730...\n",
       "13  OPD 514    514  MULTIPOLYGON (((-118.43753 33.96023, -118.4358...\n",
       "14  OPD 515    515  MULTIPOLYGON (((-118.62333 34.21973, -118.6205...\n",
       "15  OPD 516    516  MULTIPOLYGON (((-118.59789 34.21993, -118.5979...\n",
       "16  OPD 517    517  MULTIPOLYGON (((-118.60454 34.24258, -118.6014...\n",
       "17  OPD 518    518  MULTIPOLYGON (((-118.25647 34.00711, -118.2563...\n",
       "18  OPD 519    519  MULTIPOLYGON (((-118.52885 34.24900, -118.5287...\n",
       "19  OPD 524    524  MULTIPOLYGON (((-118.51642 34.27967, -118.5124...\n",
       "20  OPD 525    525  MULTIPOLYGON (((-118.46301 34.00244, -118.4612...\n",
       "21  OPD 527    527  MULTIPOLYGON (((-118.25761 34.10052, -118.2590...\n",
       "22  OPD 531    531  MULTIPOLYGON (((-118.31356 34.09077, -118.3135...\n",
       "23  OPD 536    536  MULTIPOLYGON (((-118.45787 34.22223, -118.4595...\n",
       "24  OPD 538    538  MULTIPOLYGON (((-118.37289 34.04216, -118.3708...\n",
       "25  OPD 537    537  MULTIPOLYGON (((-118.30903 34.05082, -118.3074...\n",
       "26  OPD 541    541  MULTIPOLYGON (((-118.41067 34.03341, -118.4104...\n",
       "27  OPD 543    543  MULTIPOLYGON (((-118.28105 34.09569, -118.2802...\n",
       "28  OPD 545    545  MULTIPOLYGON (((-118.33381 34.03449, -118.3301...\n",
       "29  OPD 546    546  MULTIPOLYGON (((-118.41455 33.99856, -118.4144...\n",
       "30  OPD 550    550  MULTIPOLYGON (((-118.31449 34.07614, -118.3144...\n",
       "31  OPD 551    551  MULTIPOLYGON (((-118.31514 34.02758, -118.3094...\n",
       "32  OPD 544    544  MULTIPOLYGON (((-118.38139 34.22698, -118.3808...\n",
       "33  OPD 528    528  MULTIPOLYGON (((-118.23238 34.11866, -118.2319...\n",
       "34  OPD 530    530  MULTIPOLYGON (((-118.38771 34.18665, -118.3790...\n",
       "35  OPD 532    532  MULTIPOLYGON (((-118.27061 34.08017, -118.2701...\n",
       "36  OPD 533    533  MULTIPOLYGON (((-118.60067 34.23024, -118.5998...\n",
       "37  OPD 534    534  MULTIPOLYGON (((-118.61030 34.24298, -118.6067...\n",
       "38  OPD 535    535  MULTIPOLYGON (((-118.54477 34.22870, -118.5350...\n",
       "39  OPD 547    547  MULTIPOLYGON (((-118.45982 34.00548, -118.4591...>"
      ]
     },
     "execution_count": 14,
     "metadata": {},
     "output_type": "execute_result"
    }
   ],
   "source": [
    "opds.info"
   ]
  },
  {
   "cell_type": "markdown",
   "id": "a0259a82-04c9-4368-abb6-a5680e2c2044",
   "metadata": {},
   "source": [
    "Wow, that's a lot of OPD districts! This town must really have issues with late night traffic. Or maybe..."
   ]
  },
  {
   "cell_type": "markdown",
   "id": "feb932a4-57a5-4150-8a0c-76558aebd8d0",
   "metadata": {},
   "source": [
    "Hmm, let's save such dangerous thoughts for another time. Let's play with `.head()` and see the first five entries."
   ]
  },
  {
   "cell_type": "code",
   "execution_count": 16,
   "id": "a43456d7-2ade-4e6c-bfbf-e119bbb5a8eb",
   "metadata": {},
   "outputs": [
    {
     "data": {
      "text/html": [
       "<div>\n",
       "<style scoped>\n",
       "    .dataframe tbody tr th:only-of-type {\n",
       "        vertical-align: middle;\n",
       "    }\n",
       "\n",
       "    .dataframe tbody tr th {\n",
       "        vertical-align: top;\n",
       "    }\n",
       "\n",
       "    .dataframe thead th {\n",
       "        text-align: right;\n",
       "    }\n",
       "</style>\n",
       "<table border=\"1\" class=\"dataframe\">\n",
       "  <thead>\n",
       "    <tr style=\"text-align: right;\">\n",
       "      <th></th>\n",
       "      <th>opdname</th>\n",
       "      <th>opdnum</th>\n",
       "      <th>geometry</th>\n",
       "    </tr>\n",
       "  </thead>\n",
       "  <tbody>\n",
       "    <tr>\n",
       "      <th>0</th>\n",
       "      <td>ALABAMA</td>\n",
       "      <td>500</td>\n",
       "      <td>MULTIPOLYGON (((-118.59891 34.21548, -118.5988...</td>\n",
       "    </tr>\n",
       "    <tr>\n",
       "      <th>1</th>\n",
       "      <td>OPD 501</td>\n",
       "      <td>501</td>\n",
       "      <td>MULTIPOLYGON (((-118.36135 34.15619, -118.3576...</td>\n",
       "    </tr>\n",
       "    <tr>\n",
       "      <th>2</th>\n",
       "      <td>OPD 502</td>\n",
       "      <td>502</td>\n",
       "      <td>MULTIPOLYGON (((-118.40790 34.03322, -118.4073...</td>\n",
       "    </tr>\n",
       "    <tr>\n",
       "      <th>3</th>\n",
       "      <td>OPD 503</td>\n",
       "      <td>503</td>\n",
       "      <td>MULTIPOLYGON (((-118.44854 34.16421, -118.4448...</td>\n",
       "    </tr>\n",
       "    <tr>\n",
       "      <th>4</th>\n",
       "      <td>OPD 504</td>\n",
       "      <td>504</td>\n",
       "      <td>MULTIPOLYGON (((-118.40524 34.19394, -118.4026...</td>\n",
       "    </tr>\n",
       "  </tbody>\n",
       "</table>\n",
       "</div>"
      ],
      "text/plain": [
       "   opdname opdnum                                           geometry\n",
       "0  ALABAMA    500  MULTIPOLYGON (((-118.59891 34.21548, -118.5988...\n",
       "1  OPD 501    501  MULTIPOLYGON (((-118.36135 34.15619, -118.3576...\n",
       "2  OPD 502    502  MULTIPOLYGON (((-118.40790 34.03322, -118.4073...\n",
       "3  OPD 503    503  MULTIPOLYGON (((-118.44854 34.16421, -118.4448...\n",
       "4  OPD 504    504  MULTIPOLYGON (((-118.40524 34.19394, -118.4026..."
      ]
     },
     "execution_count": 16,
     "metadata": {},
     "output_type": "execute_result"
    }
   ],
   "source": [
    "opds.head()"
   ]
  },
  {
   "cell_type": "markdown",
   "id": "08edd0f5-3187-46d9-956f-67b362e67cb9",
   "metadata": {},
   "source": [
    "Okay, not much to see here, but it looks prettier."
   ]
  },
  {
   "cell_type": "markdown",
   "id": "16c7300c-2ad5-4811-a843-f8630386230d",
   "metadata": {},
   "source": [
    "Let's `.plot()` this out. I'll be curious to see if it knows how to make sense of polygons."
   ]
  },
  {
   "cell_type": "code",
   "execution_count": 17,
   "id": "ad94f6df-9233-4e76-8b18-72457e307929",
   "metadata": {},
   "outputs": [
    {
     "data": {
      "text/plain": [
       "<AxesSubplot:>"
      ]
     },
     "execution_count": 17,
     "metadata": {},
     "output_type": "execute_result"
    },
    {
     "data": {
      "image/png": "[encoded data removed]",
      "text/plain": [
       "<Figure size 432x288 with 1 Axes>"
      ]
     },
     "metadata": {
      "needs_background": "light"
     },
     "output_type": "display_data"
    }
   ],
   "source": [
    "opds.plot()"
   ]
  },
  {
   "cell_type": "markdown",
   "id": "e492f79b-86c6-4358-a310-426c8ed0bf58",
   "metadata": {},
   "source": [
    "Well, it's not the prettiest map I've ever made, but it's all there! And it did figure out how to plot polygons. I guess that's what's going on with the geomtry field?"
   ]
  },
  {
   "cell_type": "markdown",
   "id": "30a0ef16-ad06-4034-ac80-d188f0dec80b",
   "metadata": {},
   "source": [
    "For this second to last step, I'm supposed to show that I know how to use `.value_counts()`. This won't show much about this particular dataset, since each entry has distinct values, but here it goes."
   ]
  },
  {
   "cell_type": "code",
   "execution_count": 19,
   "id": "b9b27cf3-94d6-4f98-8633-34e309306e56",
   "metadata": {},
   "outputs": [
    {
     "data": {
      "text/plain": [
       "ALABAMA    1\n",
       "OPD 501    1\n",
       "OPD 531    1\n",
       "OPD 536    1\n",
       "OPD 538    1\n",
       "OPD 537    1\n",
       "OPD 541    1\n",
       "OPD 543    1\n",
       "OPD 545    1\n",
       "OPD 546    1\n",
       "OPD 550    1\n",
       "OPD 551    1\n",
       "OPD 544    1\n",
       "OPD 528    1\n",
       "OPD 530    1\n",
       "OPD 532    1\n",
       "OPD 533    1\n",
       "OPD 534    1\n",
       "OPD 535    1\n",
       "OPD 527    1\n",
       "OPD 525    1\n",
       "OPD 524    1\n",
       "OPD 509    1\n",
       "OPD 502    1\n",
       "OPD 503    1\n",
       "OPD 504    1\n",
       "OPD 505    1\n",
       "OPD 506    1\n",
       "OPD 507    1\n",
       "OPD 508    1\n",
       "OPD 510    1\n",
       "OPD 519    1\n",
       "OPD 512    1\n",
       "OPD 513    1\n",
       "OPD 514    1\n",
       "OPD 515    1\n",
       "OPD 516    1\n",
       "OPD 517    1\n",
       "OPD 518    1\n",
       "OPD 547    1\n",
       "Name: opdname, dtype: int64"
      ]
     },
     "execution_count": 19,
     "metadata": {},
     "output_type": "execute_result"
    }
   ],
   "source": [
    "opds['opdname'].value_counts()"
   ]
  },
  {
   "cell_type": "markdown",
   "id": "e0e246b1-c205-43c3-8e3c-a5086ba4a368",
   "metadata": {},
   "source": [
    "Right, so as expected, each OPD name has a value of one, since there wouldn't be much point to names that applied to multiple entries!"
   ]
  },
  {
   "cell_type": "markdown",
   "id": "be8c6932-da9e-4bba-bb62-1c53359ea01f",
   "metadata": {},
   "source": [
    "Okay, now I need to query the data. Let's try querying OPDs with an ID at or above 520. Let's check the data types first."
   ]
  },
  {
   "cell_type": "code",
   "execution_count": 25,
   "id": "c80fb479-139d-4c28-88ec-18aa48d2135d",
   "metadata": {},
   "outputs": [
    {
     "name": "stdout",
     "output_type": "stream",
     "text": [
      "<class 'geopandas.geodataframe.GeoDataFrame'>\n",
      "RangeIndex: 40 entries, 0 to 39\n",
      "Data columns (total 3 columns):\n",
      " #   Column    Non-Null Count  Dtype   \n",
      "---  ------    --------------  -----   \n",
      " 0   opdname   40 non-null     object  \n",
      " 1   opdnum    40 non-null     object  \n",
      " 2   geometry  40 non-null     geometry\n",
      "dtypes: geometry(1), object(2)\n",
      "memory usage: 1.1+ KB\n"
     ]
    }
   ],
   "source": [
    "opds.info()"
   ]
  },
  {
   "cell_type": "markdown",
   "id": "9e56a270-809a-49b2-b453-539f49b0277e",
   "metadata": {},
   "source": [
    "Okay, so as I feared, opdnum is registered as a string/object. Let's see if we can't change that."
   ]
  },
  {
   "cell_type": "code",
   "execution_count": 27,
   "id": "f525b6e0-754d-4026-b206-e53bb03ce418",
   "metadata": {},
   "outputs": [
    {
     "name": "stdout",
     "output_type": "stream",
     "text": [
      "<class 'geopandas.geodataframe.GeoDataFrame'>\n",
      "RangeIndex: 40 entries, 0 to 39\n",
      "Data columns (total 3 columns):\n",
      " #   Column    Non-Null Count  Dtype   \n",
      "---  ------    --------------  -----   \n",
      " 0   opdname   40 non-null     object  \n",
      " 1   opdnum    40 non-null     int64   \n",
      " 2   geometry  40 non-null     geometry\n",
      "dtypes: geometry(1), int64(1), object(1)\n",
      "memory usage: 1.1+ KB\n"
     ]
    }
   ],
   "source": [
    "opds[\"opdnum\"] = opds[\"opdnum\"].astype(str).astype(int)\n",
    "opds.info()"
   ]
  },
  {
   "cell_type": "markdown",
   "id": "f72a2efc-2f25-4eff-a0cc-298bef3ab042",
   "metadata": {},
   "source": [
    "Sweet, so now the **opdnum** field is an integer. Let's try to query it now."
   ]
  },
  {
   "cell_type": "code",
   "execution_count": 30,
   "id": "21814202-1234-4acd-9f7c-345b43bc8700",
   "metadata": {},
   "outputs": [
    {
     "data": {
      "text/html": [
       "<div>\n",
       "<style scoped>\n",
       "    .dataframe tbody tr th:only-of-type {\n",
       "        vertical-align: middle;\n",
       "    }\n",
       "\n",
       "    .dataframe tbody tr th {\n",
       "        vertical-align: top;\n",
       "    }\n",
       "\n",
       "    .dataframe thead th {\n",
       "        text-align: right;\n",
       "    }\n",
       "</style>\n",
       "<table border=\"1\" class=\"dataframe\">\n",
       "  <thead>\n",
       "    <tr style=\"text-align: right;\">\n",
       "      <th></th>\n",
       "      <th>opdname</th>\n",
       "      <th>opdnum</th>\n",
       "      <th>geometry</th>\n",
       "    </tr>\n",
       "  </thead>\n",
       "  <tbody>\n",
       "    <tr>\n",
       "      <th>19</th>\n",
       "      <td>OPD 524</td>\n",
       "      <td>524</td>\n",
       "      <td>MULTIPOLYGON (((-118.51642 34.27967, -118.5124...</td>\n",
       "    </tr>\n",
       "    <tr>\n",
       "      <th>20</th>\n",
       "      <td>OPD 525</td>\n",
       "      <td>525</td>\n",
       "      <td>MULTIPOLYGON (((-118.46301 34.00244, -118.4612...</td>\n",
       "    </tr>\n",
       "    <tr>\n",
       "      <th>21</th>\n",
       "      <td>OPD 527</td>\n",
       "      <td>527</td>\n",
       "      <td>MULTIPOLYGON (((-118.25761 34.10052, -118.2590...</td>\n",
       "    </tr>\n",
       "    <tr>\n",
       "      <th>22</th>\n",
       "      <td>OPD 531</td>\n",
       "      <td>531</td>\n",
       "      <td>MULTIPOLYGON (((-118.31356 34.09077, -118.3135...</td>\n",
       "    </tr>\n",
       "    <tr>\n",
       "      <th>23</th>\n",
       "      <td>OPD 536</td>\n",
       "      <td>536</td>\n",
       "      <td>MULTIPOLYGON (((-118.45787 34.22223, -118.4595...</td>\n",
       "    </tr>\n",
       "    <tr>\n",
       "      <th>24</th>\n",
       "      <td>OPD 538</td>\n",
       "      <td>538</td>\n",
       "      <td>MULTIPOLYGON (((-118.37289 34.04216, -118.3708...</td>\n",
       "    </tr>\n",
       "    <tr>\n",
       "      <th>25</th>\n",
       "      <td>OPD 537</td>\n",
       "      <td>537</td>\n",
       "      <td>MULTIPOLYGON (((-118.30903 34.05082, -118.3074...</td>\n",
       "    </tr>\n",
       "    <tr>\n",
       "      <th>26</th>\n",
       "      <td>OPD 541</td>\n",
       "      <td>541</td>\n",
       "      <td>MULTIPOLYGON (((-118.41067 34.03341, -118.4104...</td>\n",
       "    </tr>\n",
       "    <tr>\n",
       "      <th>27</th>\n",
       "      <td>OPD 543</td>\n",
       "      <td>543</td>\n",
       "      <td>MULTIPOLYGON (((-118.28105 34.09569, -118.2802...</td>\n",
       "    </tr>\n",
       "    <tr>\n",
       "      <th>28</th>\n",
       "      <td>OPD 545</td>\n",
       "      <td>545</td>\n",
       "      <td>MULTIPOLYGON (((-118.33381 34.03449, -118.3301...</td>\n",
       "    </tr>\n",
       "    <tr>\n",
       "      <th>29</th>\n",
       "      <td>OPD 546</td>\n",
       "      <td>546</td>\n",
       "      <td>MULTIPOLYGON (((-118.41455 33.99856, -118.4144...</td>\n",
       "    </tr>\n",
       "    <tr>\n",
       "      <th>30</th>\n",
       "      <td>OPD 550</td>\n",
       "      <td>550</td>\n",
       "      <td>MULTIPOLYGON (((-118.31449 34.07614, -118.3144...</td>\n",
       "    </tr>\n",
       "    <tr>\n",
       "      <th>31</th>\n",
       "      <td>OPD 551</td>\n",
       "      <td>551</td>\n",
       "      <td>MULTIPOLYGON (((-118.31514 34.02758, -118.3094...</td>\n",
       "    </tr>\n",
       "    <tr>\n",
       "      <th>32</th>\n",
       "      <td>OPD 544</td>\n",
       "      <td>544</td>\n",
       "      <td>MULTIPOLYGON (((-118.38139 34.22698, -118.3808...</td>\n",
       "    </tr>\n",
       "    <tr>\n",
       "      <th>33</th>\n",
       "      <td>OPD 528</td>\n",
       "      <td>528</td>\n",
       "      <td>MULTIPOLYGON (((-118.23238 34.11866, -118.2319...</td>\n",
       "    </tr>\n",
       "    <tr>\n",
       "      <th>34</th>\n",
       "      <td>OPD 530</td>\n",
       "      <td>530</td>\n",
       "      <td>MULTIPOLYGON (((-118.38771 34.18665, -118.3790...</td>\n",
       "    </tr>\n",
       "    <tr>\n",
       "      <th>35</th>\n",
       "      <td>OPD 532</td>\n",
       "      <td>532</td>\n",
       "      <td>MULTIPOLYGON (((-118.27061 34.08017, -118.2701...</td>\n",
       "    </tr>\n",
       "    <tr>\n",
       "      <th>36</th>\n",
       "      <td>OPD 533</td>\n",
       "      <td>533</td>\n",
       "      <td>MULTIPOLYGON (((-118.60067 34.23024, -118.5998...</td>\n",
       "    </tr>\n",
       "    <tr>\n",
       "      <th>37</th>\n",
       "      <td>OPD 534</td>\n",
       "      <td>534</td>\n",
       "      <td>MULTIPOLYGON (((-118.61030 34.24298, -118.6067...</td>\n",
       "    </tr>\n",
       "    <tr>\n",
       "      <th>38</th>\n",
       "      <td>OPD 535</td>\n",
       "      <td>535</td>\n",
       "      <td>MULTIPOLYGON (((-118.54477 34.22870, -118.5350...</td>\n",
       "    </tr>\n",
       "    <tr>\n",
       "      <th>39</th>\n",
       "      <td>OPD 547</td>\n",
       "      <td>547</td>\n",
       "      <td>MULTIPOLYGON (((-118.45982 34.00548, -118.4591...</td>\n",
       "    </tr>\n",
       "  </tbody>\n",
       "</table>\n",
       "</div>"
      ],
      "text/plain": [
       "    opdname  opdnum                                           geometry\n",
       "19  OPD 524     524  MULTIPOLYGON (((-118.51642 34.27967, -118.5124...\n",
       "20  OPD 525     525  MULTIPOLYGON (((-118.46301 34.00244, -118.4612...\n",
       "21  OPD 527     527  MULTIPOLYGON (((-118.25761 34.10052, -118.2590...\n",
       "22  OPD 531     531  MULTIPOLYGON (((-118.31356 34.09077, -118.3135...\n",
       "23  OPD 536     536  MULTIPOLYGON (((-118.45787 34.22223, -118.4595...\n",
       "24  OPD 538     538  MULTIPOLYGON (((-118.37289 34.04216, -118.3708...\n",
       "25  OPD 537     537  MULTIPOLYGON (((-118.30903 34.05082, -118.3074...\n",
       "26  OPD 541     541  MULTIPOLYGON (((-118.41067 34.03341, -118.4104...\n",
       "27  OPD 543     543  MULTIPOLYGON (((-118.28105 34.09569, -118.2802...\n",
       "28  OPD 545     545  MULTIPOLYGON (((-118.33381 34.03449, -118.3301...\n",
       "29  OPD 546     546  MULTIPOLYGON (((-118.41455 33.99856, -118.4144...\n",
       "30  OPD 550     550  MULTIPOLYGON (((-118.31449 34.07614, -118.3144...\n",
       "31  OPD 551     551  MULTIPOLYGON (((-118.31514 34.02758, -118.3094...\n",
       "32  OPD 544     544  MULTIPOLYGON (((-118.38139 34.22698, -118.3808...\n",
       "33  OPD 528     528  MULTIPOLYGON (((-118.23238 34.11866, -118.2319...\n",
       "34  OPD 530     530  MULTIPOLYGON (((-118.38771 34.18665, -118.3790...\n",
       "35  OPD 532     532  MULTIPOLYGON (((-118.27061 34.08017, -118.2701...\n",
       "36  OPD 533     533  MULTIPOLYGON (((-118.60067 34.23024, -118.5998...\n",
       "37  OPD 534     534  MULTIPOLYGON (((-118.61030 34.24298, -118.6067...\n",
       "38  OPD 535     535  MULTIPOLYGON (((-118.54477 34.22870, -118.5350...\n",
       "39  OPD 547     547  MULTIPOLYGON (((-118.45982 34.00548, -118.4591..."
      ]
     },
     "execution_count": 30,
     "metadata": {},
     "output_type": "execute_result"
    }
   ],
   "source": [
    "opds.query(\"opdnum >= 520\")"
   ]
  },
  {
   "cell_type": "markdown",
   "id": "eea6b966-9f00-4d89-9175-513565c412ee",
   "metadata": {},
   "source": [
    "Cool, that worked. The query produced any entry with an **openum** above 520."
   ]
  }
 ],
 "metadata": {
  "kernelspec": {
   "display_name": "Python 3 (ipykernel)",
   "language": "python",
   "name": "python3"
  },
  "language_info": {
   "codemirror_mode": {
    "name": "ipython",
    "version": 3
   },
   "file_extension": ".py",
   "mimetype": "text/x-python",
   "name": "python",
   "nbconvert_exporter": "python",
   "pygments_lexer": "ipython3",
   "version": "3.9.6"
  }
 },
 "nbformat": 4,
 "nbformat_minor": 5
}
